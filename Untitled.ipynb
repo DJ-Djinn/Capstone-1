{
 "cells": [
  {
   "cell_type": "code",
   "execution_count": 1,
   "metadata": {},
   "outputs": [],
   "source": [
    "import pandas as pd"
   ]
  },
  {
   "cell_type": "code",
   "execution_count": 2,
   "metadata": {},
   "outputs": [
    {
     "name": "stderr",
     "output_type": "stream",
     "text": [
      "/home/austin/anaconda3/lib/python3.7/site-packages/ipykernel_launcher.py:1: FutureWarning: read_table is deprecated, use read_csv instead, passing sep='\\t'.\n",
      "  \"\"\"Entry point for launching an IPython kernel.\n"
     ]
    }
   ],
   "source": [
    "df = pd.read_table('Text_Data/doubles 2016-11.txt', header=4)"
   ]
  },
  {
   "cell_type": "code",
   "execution_count": 41,
   "metadata": {},
   "outputs": [],
   "source": [
    "df = pd.read_csv('Text_Data/singles_2017-02.txt', header=3, sep='|')"
   ]
  },
  {
   "cell_type": "code",
   "execution_count": 43,
   "metadata": {},
   "outputs": [
    {
     "data": {
      "text/plain": [
       "856"
      ]
     },
     "execution_count": 43,
     "metadata": {},
     "output_type": "execute_result"
    }
   ],
   "source": [
    "len(df)"
   ]
  },
  {
   "cell_type": "code",
   "execution_count": 42,
   "metadata": {},
   "outputs": [
    {
     "data": {
      "text/html": [
       "<div>\n",
       "<style scoped>\n",
       "    .dataframe tbody tr th:only-of-type {\n",
       "        vertical-align: middle;\n",
       "    }\n",
       "\n",
       "    .dataframe tbody tr th {\n",
       "        vertical-align: top;\n",
       "    }\n",
       "\n",
       "    .dataframe thead th {\n",
       "        text-align: right;\n",
       "    }\n",
       "</style>\n",
       "<table border=\"1\" class=\"dataframe\">\n",
       "  <thead>\n",
       "    <tr style=\"text-align: right;\">\n",
       "      <th></th>\n",
       "      <th></th>\n",
       "      <th>Rank</th>\n",
       "      <th>Pokemon</th>\n",
       "      <th>Usage %</th>\n",
       "      <th>Raw</th>\n",
       "      <th>%</th>\n",
       "      <th>Real</th>\n",
       "      <th>%       .1</th>\n",
       "      <th>.1</th>\n",
       "    </tr>\n",
       "  </thead>\n",
       "  <tbody>\n",
       "    <tr>\n",
       "      <th>0</th>\n",
       "      <td>+ ---- + ------------------ + --------- + ---...</td>\n",
       "      <td>NaN</td>\n",
       "      <td>NaN</td>\n",
       "      <td>NaN</td>\n",
       "      <td>NaN</td>\n",
       "      <td>NaN</td>\n",
       "      <td>NaN</td>\n",
       "      <td>NaN</td>\n",
       "      <td>NaN</td>\n",
       "    </tr>\n",
       "    <tr>\n",
       "      <th>1</th>\n",
       "      <td></td>\n",
       "      <td>1.0</td>\n",
       "      <td>Landorus-Therian</td>\n",
       "      <td>42.55849%</td>\n",
       "      <td>452507.0</td>\n",
       "      <td>21.220%</td>\n",
       "      <td>381317.0</td>\n",
       "      <td>24.085%</td>\n",
       "      <td></td>\n",
       "    </tr>\n",
       "    <tr>\n",
       "      <th>2</th>\n",
       "      <td></td>\n",
       "      <td>2.0</td>\n",
       "      <td>Metagross-Mega</td>\n",
       "      <td>35.44555%</td>\n",
       "      <td>344716.0</td>\n",
       "      <td>16.165%</td>\n",
       "      <td>249662.0</td>\n",
       "      <td>15.769%</td>\n",
       "      <td></td>\n",
       "    </tr>\n",
       "    <tr>\n",
       "      <th>3</th>\n",
       "      <td></td>\n",
       "      <td>3.0</td>\n",
       "      <td>Tapu Fini</td>\n",
       "      <td>26.02727%</td>\n",
       "      <td>334077.0</td>\n",
       "      <td>15.666%</td>\n",
       "      <td>267060.0</td>\n",
       "      <td>16.868%</td>\n",
       "      <td></td>\n",
       "    </tr>\n",
       "    <tr>\n",
       "      <th>4</th>\n",
       "      <td></td>\n",
       "      <td>4.0</td>\n",
       "      <td>Pheromosa</td>\n",
       "      <td>21.43362%</td>\n",
       "      <td>239768.0</td>\n",
       "      <td>11.244%</td>\n",
       "      <td>178050.0</td>\n",
       "      <td>11.246%</td>\n",
       "      <td></td>\n",
       "    </tr>\n",
       "  </tbody>\n",
       "</table>\n",
       "</div>"
      ],
      "text/plain": [
       "                                                       Rank   \\\n",
       "0   + ---- + ------------------ + --------- + ---...     NaN   \n",
       "1                                                        1.0   \n",
       "2                                                        2.0   \n",
       "3                                                        3.0   \n",
       "4                                                        4.0   \n",
       "\n",
       "    Pokemon               Usage %      Raw       %          Real     \\\n",
       "0                   NaN          NaN       NaN        NaN       NaN   \n",
       "1   Landorus-Therian      42.55849%   452507.0   21.220%   381317.0   \n",
       "2   Metagross-Mega        35.44555%   344716.0   16.165%   249662.0   \n",
       "3   Tapu Fini             26.02727%   334077.0   15.666%   267060.0   \n",
       "4   Pheromosa             21.43362%   239768.0   11.244%   178050.0   \n",
       "\n",
       "   %       .1   .1  \n",
       "0         NaN  NaN  \n",
       "1    24.085%        \n",
       "2    15.769%        \n",
       "3    16.868%        \n",
       "4    11.246%        "
      ]
     },
     "execution_count": 42,
     "metadata": {},
     "output_type": "execute_result"
    }
   ],
   "source": [
    "df.head()"
   ]
  },
  {
   "cell_type": "code",
   "execution_count": 44,
   "metadata": {},
   "outputs": [],
   "source": [
    "df = df.drop(index=[0,len(df)-1])"
   ]
  },
  {
   "cell_type": "code",
   "execution_count": 46,
   "metadata": {},
   "outputs": [
    {
     "data": {
      "text/html": [
       "<div>\n",
       "<style scoped>\n",
       "    .dataframe tbody tr th:only-of-type {\n",
       "        vertical-align: middle;\n",
       "    }\n",
       "\n",
       "    .dataframe tbody tr th {\n",
       "        vertical-align: top;\n",
       "    }\n",
       "\n",
       "    .dataframe thead th {\n",
       "        text-align: right;\n",
       "    }\n",
       "</style>\n",
       "<table border=\"1\" class=\"dataframe\">\n",
       "  <thead>\n",
       "    <tr style=\"text-align: right;\">\n",
       "      <th></th>\n",
       "      <th></th>\n",
       "      <th>Rank</th>\n",
       "      <th>Pokemon</th>\n",
       "      <th>Usage %</th>\n",
       "      <th>Raw</th>\n",
       "      <th>%</th>\n",
       "      <th>Real</th>\n",
       "      <th>%       .1</th>\n",
       "      <th>.1</th>\n",
       "    </tr>\n",
       "  </thead>\n",
       "  <tbody>\n",
       "    <tr>\n",
       "      <th>1</th>\n",
       "      <td></td>\n",
       "      <td>1.0</td>\n",
       "      <td>Landorus-Therian</td>\n",
       "      <td>42.55849%</td>\n",
       "      <td>452507.0</td>\n",
       "      <td>21.220%</td>\n",
       "      <td>381317.0</td>\n",
       "      <td>24.085%</td>\n",
       "      <td></td>\n",
       "    </tr>\n",
       "    <tr>\n",
       "      <th>2</th>\n",
       "      <td></td>\n",
       "      <td>2.0</td>\n",
       "      <td>Metagross-Mega</td>\n",
       "      <td>35.44555%</td>\n",
       "      <td>344716.0</td>\n",
       "      <td>16.165%</td>\n",
       "      <td>249662.0</td>\n",
       "      <td>15.769%</td>\n",
       "      <td></td>\n",
       "    </tr>\n",
       "    <tr>\n",
       "      <th>3</th>\n",
       "      <td></td>\n",
       "      <td>3.0</td>\n",
       "      <td>Tapu Fini</td>\n",
       "      <td>26.02727%</td>\n",
       "      <td>334077.0</td>\n",
       "      <td>15.666%</td>\n",
       "      <td>267060.0</td>\n",
       "      <td>16.868%</td>\n",
       "      <td></td>\n",
       "    </tr>\n",
       "    <tr>\n",
       "      <th>4</th>\n",
       "      <td></td>\n",
       "      <td>4.0</td>\n",
       "      <td>Pheromosa</td>\n",
       "      <td>21.43362%</td>\n",
       "      <td>239768.0</td>\n",
       "      <td>11.244%</td>\n",
       "      <td>178050.0</td>\n",
       "      <td>11.246%</td>\n",
       "      <td></td>\n",
       "    </tr>\n",
       "    <tr>\n",
       "      <th>5</th>\n",
       "      <td></td>\n",
       "      <td>5.0</td>\n",
       "      <td>Tapu Lele</td>\n",
       "      <td>19.82681%</td>\n",
       "      <td>270380.0</td>\n",
       "      <td>12.679%</td>\n",
       "      <td>187401.0</td>\n",
       "      <td>11.837%</td>\n",
       "      <td></td>\n",
       "    </tr>\n",
       "  </tbody>\n",
       "</table>\n",
       "</div>"
      ],
      "text/plain": [
       "       Rank    Pokemon               Usage %      Raw       %         \\\n",
       "1        1.0   Landorus-Therian      42.55849%   452507.0   21.220%    \n",
       "2        2.0   Metagross-Mega        35.44555%   344716.0   16.165%    \n",
       "3        3.0   Tapu Fini             26.02727%   334077.0   15.666%    \n",
       "4        4.0   Pheromosa             21.43362%   239768.0   11.244%    \n",
       "5        5.0   Tapu Lele             19.82681%   270380.0   12.679%    \n",
       "\n",
       "    Real     %       .1  .1  \n",
       "1  381317.0    24.085%       \n",
       "2  249662.0    15.769%       \n",
       "3  267060.0    16.868%       \n",
       "4  178050.0    11.246%       \n",
       "5  187401.0    11.837%       "
      ]
     },
     "execution_count": 46,
     "metadata": {},
     "output_type": "execute_result"
    }
   ],
   "source": [
    "df.head()"
   ]
  },
  {
   "cell_type": "code",
   "execution_count": 47,
   "metadata": {},
   "outputs": [
    {
     "name": "stdout",
     "output_type": "stream",
     "text": [
      "clean_data.py  \u001b[0m\u001b[01;34mCSV_Data\u001b[0m/  get_data.py  README.md  \u001b[01;34mText_Data\u001b[0m/  Untitled.ipynb\r\n"
     ]
    }
   ],
   "source": [
    "ls"
   ]
  },
  {
   "cell_type": "code",
   "execution_count": 48,
   "metadata": {},
   "outputs": [],
   "source": [
    "df = pd.read_csv('CSV_Data/singles_2017-02.csv')"
   ]
  },
  {
   "cell_type": "code",
   "execution_count": 49,
   "metadata": {},
   "outputs": [
    {
     "data": {
      "text/html": [
       "<div>\n",
       "<style scoped>\n",
       "    .dataframe tbody tr th:only-of-type {\n",
       "        vertical-align: middle;\n",
       "    }\n",
       "\n",
       "    .dataframe tbody tr th {\n",
       "        vertical-align: top;\n",
       "    }\n",
       "\n",
       "    .dataframe thead th {\n",
       "        text-align: right;\n",
       "    }\n",
       "</style>\n",
       "<table border=\"1\" class=\"dataframe\">\n",
       "  <thead>\n",
       "    <tr style=\"text-align: right;\">\n",
       "      <th></th>\n",
       "      <th>Unnamed: 0</th>\n",
       "      <th></th>\n",
       "      <th>Rank</th>\n",
       "      <th>Pokemon</th>\n",
       "      <th>Usage %</th>\n",
       "      <th>Raw</th>\n",
       "      <th>%</th>\n",
       "      <th>Real</th>\n",
       "      <th>%       .1</th>\n",
       "      <th>.1</th>\n",
       "    </tr>\n",
       "  </thead>\n",
       "  <tbody>\n",
       "    <tr>\n",
       "      <th>0</th>\n",
       "      <td>1</td>\n",
       "      <td></td>\n",
       "      <td>1.0</td>\n",
       "      <td>Landorus-Therian</td>\n",
       "      <td>42.55849%</td>\n",
       "      <td>452507.0</td>\n",
       "      <td>21.220%</td>\n",
       "      <td>381317.0</td>\n",
       "      <td>24.085%</td>\n",
       "      <td></td>\n",
       "    </tr>\n",
       "    <tr>\n",
       "      <th>1</th>\n",
       "      <td>2</td>\n",
       "      <td></td>\n",
       "      <td>2.0</td>\n",
       "      <td>Metagross-Mega</td>\n",
       "      <td>35.44555%</td>\n",
       "      <td>344716.0</td>\n",
       "      <td>16.165%</td>\n",
       "      <td>249662.0</td>\n",
       "      <td>15.769%</td>\n",
       "      <td></td>\n",
       "    </tr>\n",
       "    <tr>\n",
       "      <th>2</th>\n",
       "      <td>3</td>\n",
       "      <td></td>\n",
       "      <td>3.0</td>\n",
       "      <td>Tapu Fini</td>\n",
       "      <td>26.02727%</td>\n",
       "      <td>334077.0</td>\n",
       "      <td>15.666%</td>\n",
       "      <td>267060.0</td>\n",
       "      <td>16.868%</td>\n",
       "      <td></td>\n",
       "    </tr>\n",
       "    <tr>\n",
       "      <th>3</th>\n",
       "      <td>4</td>\n",
       "      <td></td>\n",
       "      <td>4.0</td>\n",
       "      <td>Pheromosa</td>\n",
       "      <td>21.43362%</td>\n",
       "      <td>239768.0</td>\n",
       "      <td>11.244%</td>\n",
       "      <td>178050.0</td>\n",
       "      <td>11.246%</td>\n",
       "      <td></td>\n",
       "    </tr>\n",
       "    <tr>\n",
       "      <th>4</th>\n",
       "      <td>5</td>\n",
       "      <td></td>\n",
       "      <td>5.0</td>\n",
       "      <td>Tapu Lele</td>\n",
       "      <td>19.82681%</td>\n",
       "      <td>270380.0</td>\n",
       "      <td>12.679%</td>\n",
       "      <td>187401.0</td>\n",
       "      <td>11.837%</td>\n",
       "      <td></td>\n",
       "    </tr>\n",
       "  </tbody>\n",
       "</table>\n",
       "</div>"
      ],
      "text/plain": [
       "   Unnamed: 0      Rank    Pokemon               Usage %      Raw      \\\n",
       "0           1        1.0   Landorus-Therian      42.55849%   452507.0   \n",
       "1           2        2.0   Metagross-Mega        35.44555%   344716.0   \n",
       "2           3        3.0   Tapu Fini             26.02727%   334077.0   \n",
       "3           4        4.0   Pheromosa             21.43362%   239768.0   \n",
       "4           5        5.0   Tapu Lele             19.82681%   270380.0   \n",
       "\n",
       "    %          Real     %       .1  .1  \n",
       "0   21.220%   381317.0    24.085%       \n",
       "1   16.165%   249662.0    15.769%       \n",
       "2   15.666%   267060.0    16.868%       \n",
       "3   11.244%   178050.0    11.246%       \n",
       "4   12.679%   187401.0    11.837%       "
      ]
     },
     "execution_count": 49,
     "metadata": {},
     "output_type": "execute_result"
    }
   ],
   "source": [
    "df.head()"
   ]
  },
  {
   "cell_type": "code",
   "execution_count": null,
   "metadata": {},
   "outputs": [],
   "source": []
  }
 ],
 "metadata": {
  "kernelspec": {
   "display_name": "Python 3",
   "language": "python",
   "name": "python3"
  },
  "language_info": {
   "codemirror_mode": {
    "name": "ipython",
    "version": 3
   },
   "file_extension": ".py",
   "mimetype": "text/x-python",
   "name": "python",
   "nbconvert_exporter": "python",
   "pygments_lexer": "ipython3",
   "version": "3.7.3"
  }
 },
 "nbformat": 4,
 "nbformat_minor": 2
}
